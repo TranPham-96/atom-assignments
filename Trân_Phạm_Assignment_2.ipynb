{
  "nbformat": 4,
  "nbformat_minor": 0,
  "metadata": {
    "colab": {
      "name": "Trân Phạm- Assignment 2",
      "provenance": [],
      "authorship_tag": "ABX9TyPZ62PnFAlzDQY0yOG3timR",
      "include_colab_link": true
    },
    "kernelspec": {
      "name": "python3",
      "display_name": "Python 3"
    },
    "language_info": {
      "name": "python"
    }
  },
  "cells": [
    {
      "cell_type": "markdown",
      "metadata": {
        "id": "view-in-github",
        "colab_type": "text"
      },
      "source": [
        "<a href=\"https://colab.research.google.com/github/TranPham-96/atom-assignments/blob/main/Tr%C3%A2n_Ph%E1%BA%A1m_Assignment_2.ipynb\" target=\"_parent\"><img src=\"https://colab.research.google.com/assets/colab-badge.svg\" alt=\"Open In Colab\"/></a>"
      ]
    },
    {
      "cell_type": "code",
      "metadata": {
        "colab": {
          "base_uri": "https://localhost:8080/"
        },
        "id": "OpU7z0mZvWRH",
        "outputId": "6d690e3e-4529-4500-cb0a-97bf509c50ee"
      },
      "source": [
        "!ls"
      ],
      "execution_count": null,
      "outputs": [
        {
          "output_type": "stream",
          "text": [
            "env_variable.json  sample_data\n"
          ],
          "name": "stdout"
        }
      ]
    },
    {
      "cell_type": "code",
      "metadata": {
        "id": "90AtOUfaAaTK"
      },
      "source": [
        "!python /content/env_variable.json"
      ],
      "execution_count": 5,
      "outputs": []
    },
    {
      "cell_type": "code",
      "metadata": {
        "id": "psgv4iBO5X6q"
      },
      "source": [
        "import json\n",
        "with open('env_variable.json', 'r') as j:\n",
        "    json_data = json.load(j)\n",
        "    # print(json_data)"
      ],
      "execution_count": 6,
      "outputs": []
    },
    {
      "cell_type": "code",
      "metadata": {
        "colab": {
          "base_uri": "https://localhost:8080/"
        },
        "id": "H3LZk5zA5yaY",
        "outputId": "e8bd9d37-8514-4033-de82-c2339d47e7ba"
      },
      "source": [
        "import os\n",
        "os.environ['SENDER_EMAIL'] = json_data['SENDER_EMAIL'] ## INPUT: Your Email\n",
        "os.environ['PWD_EMAIL'] = json_data['PWD_EMAIL'] ## INPUT: Your App Password\n",
        "os.environ['WEATHER_API_KEY'] = json_data['WEATHER_API_KEY'] ## INPUT: OpenWeather API Key\n",
        "print('DONE! Get Env. Variable')"
      ],
      "execution_count": 8,
      "outputs": [
        {
          "output_type": "stream",
          "text": [
            "DONE! Get Env. Variable\n"
          ],
          "name": "stdout"
        }
      ]
    },
    {
      "cell_type": "code",
      "metadata": {
        "colab": {
          "base_uri": "https://localhost:8080/"
        },
        "id": "FF2OX3WA6Au2",
        "outputId": "c0296e72-1786-4391-b4ed-8cbbf3bf483c"
      },
      "source": [
        "print(os.environ['SENDER_EMAIL'])"
      ],
      "execution_count": null,
      "outputs": [
        {
          "output_type": "stream",
          "text": [
            "tran30996@gmail.com\n"
          ],
          "name": "stdout"
        }
      ]
    },
    {
      "cell_type": "code",
      "metadata": {
        "colab": {
          "base_uri": "https://localhost:8080/"
        },
        "id": "SYCZ0eTb6IO9",
        "outputId": "e5151a5f-c9e6-463c-8827-8ac1996da01c"
      },
      "source": [
        "!pip install beautifulsoup4"
      ],
      "execution_count": null,
      "outputs": [
        {
          "output_type": "stream",
          "text": [
            "Requirement already satisfied: beautifulsoup4 in /usr/local/lib/python3.7/dist-packages (4.6.3)\n"
          ],
          "name": "stdout"
        }
      ]
    },
    {
      "cell_type": "code",
      "metadata": {
        "id": "V04yts5x6rS0"
      },
      "source": [
        "import email, smtplib, ssl # to automate email\n",
        "import email as mail\n",
        "from email import encoders\n",
        "from email.mime.base import MIMEBase\n",
        "from email.mime.multipart import MIMEMultipart\n",
        "from email.mime.text import MIMEText\n",
        "\n",
        "import requests, json # to pull API, and work with json\n",
        "import datetime as dt # to work with date, time\n",
        "from bs4 import BeautifulSoup # to work with web scrapping (HTML)\n",
        "import pandas as pd # to work with tables (DataFrames) data\n",
        "from IPython.core.display import HTML # to display HTML in the notebook"
      ],
      "execution_count": 10,
      "outputs": []
    },
    {
      "cell_type": "code",
      "metadata": {
        "id": "allevtlw62H1",
        "colab": {
          "base_uri": "https://localhost:8080/"
        },
        "outputId": "71c4a11d-5153-4a22-f7dd-5823f50067f7"
      },
      "source": [
        "subject = \"Test Email\" #INPUT1: Subject of the Email\n",
        "receiver_email = input(\"Your email: \") #INPUT2: email address to receive the email\n",
        "sender_email = os.environ['SENDER_EMAIL']\n",
        "password = os.environ['PWD_EMAIL'] \n",
        "\n",
        "# (1) Create the email head (sender, receiver, and subject)\n",
        "email = MIMEMultipart()\n",
        "email[\"From\"] = sender_email\n",
        "email[\"To\"] = receiver_email \n",
        "email[\"Subject\"] = subject\n",
        "\n",
        "# (2) Create Body part\n",
        "# We use html, you can convert word to html: https://wordtohtml.net/\n",
        "html1 = \"\"\"\n",
        "    <html>\n",
        "    <h1><strong>Hello World</strong></h1>\n",
        "    <body>\n",
        "    <p>Hi, there!<br>\n",
        "       How are you? This is a test automate email from Tran<br>\n",
        "       Here is the <a href=\"https://docs.python.org/3.4/library/email-examples.html\">link</a> you wanted.\n",
        "    </p>\n",
        "    </body>\n",
        "    </html>\n",
        "    \"\"\"\n",
        "html2 = \"\"\"\n",
        "<html>\n",
        "Email sent at <b>{}</b><br>\n",
        "</html>\n",
        "\"\"\".format(dt.datetime.now().isoformat())\n",
        "\n",
        "text3 = '--- End ----'\n",
        "\n",
        "# Combine parts\n",
        "part1 = MIMEText(html1, 'html')\n",
        "part2 = MIMEText(html2, 'html')\n",
        "part3 = MIMEText(text3, 'plain')\n",
        "\n",
        "email.attach(part1)\n",
        "email.attach(part2)\n",
        "email.attach(part3)\n",
        "\n",
        "# (3) Create SMTP session for sending the mail\n",
        "session = smtplib.SMTP('smtp.gmail.com', 587) #use gmail with port\n",
        "session.starttls() #enable security\n",
        "session.login(sender_email, password) #login with mail_id and password\n",
        "text = email.as_string()\n",
        "session.sendmail(sender_email, receiver_email, text)\n",
        "session.quit()\n",
        "\n",
        "print('DONE! Mail Sent'.format(sender_email, receiver_email))"
      ],
      "execution_count": 12,
      "outputs": [
        {
          "output_type": "stream",
          "text": [
            "Your email: plmt1996@gmail.com\n",
            "DONE! Mail Sent\n"
          ],
          "name": "stdout"
        }
      ]
    },
    {
      "cell_type": "code",
      "metadata": {
        "colab": {
          "base_uri": "https://localhost:8080/"
        },
        "id": "ApqeI_Fofv3G",
        "outputId": "e60b4ba4-385c-4e83-96ec-51817523718d"
      },
      "source": [
        "# To Do #2\n",
        "def send_email(receiver_email, subject, part1, part2, part3):\n",
        "    sender_email = os.environ['SENDER_EMAIL']\n",
        "    password = os.environ['PWD_EMAIL']\n",
        "\n",
        "# (1) Create the email head (sender, receiver, and subject)\n",
        "email = MIMEMultipart()\n",
        "email[\"From\"] = sender_email\n",
        "email[\"To\"] = receiver_email \n",
        "email[\"Subject\"] = subject\n",
        "\n",
        "# (2) Create Body part\n",
        "html1 = \"\"\"\n",
        "    <html>\n",
        "    <h1><strong>Hello World</strong></h1>\n",
        "    <body>\n",
        "    <p>Hi, there!<br>\n",
        "       How are you? This is a test automate email from Tran<br>\n",
        "       Here is the <a href=\"https://docs.python.org/3.4/library/email-examples.html\">link</a> you wanted.\n",
        "    </p>\n",
        "    </body>\n",
        "    </html>\n",
        "    \"\"\"\n",
        "html2 = \"\"\"\n",
        "<html>\n",
        "Email sent at <b>{}</b><br>\n",
        "</html>\n",
        "\"\"\".format(dt.datetime.now().isoformat())\n",
        "\n",
        "text3 = '--- End ----'\n",
        "\n",
        "# Combine parts\n",
        "part1 = MIMEText(html1, 'html')\n",
        "part2 = MIMEText(html2, 'html')\n",
        "part3 = MIMEText(text3, 'plain')\n",
        "\n",
        "email.attach(part1)\n",
        "email.attach(part2)\n",
        "email.attach(part3)\n",
        "\n",
        "# (3) Create SMTP session for sending the mail\n",
        "session = smtplib.SMTP('smtp.gmail.com', 587) #use gmail with port\n",
        "session.starttls() #enable security\n",
        "session.login(sender_email, password) #login with mail_id and password\n",
        "text = email.as_string()\n",
        "session.sendmail(sender_email, receiver_email, text)\n",
        "session.quit()\n",
        "\n",
        "print('DONE! Mail Sent'.format(sender_email, receiver_email))\n",
        "\n"
      ],
      "execution_count": 16,
      "outputs": [
        {
          "output_type": "stream",
          "text": [
            "DONE! Mail Sent\n"
          ],
          "name": "stdout"
        }
      ]
    },
    {
      "cell_type": "code",
      "metadata": {
        "colab": {
          "base_uri": "https://localhost:8080/"
        },
        "id": "jDGNo-lD1TKi",
        "outputId": "c681dce7-85ec-4a64-903c-cee0131c938d"
      },
      "source": [
        "email_list = receiver_email\n",
        "subject = input(\"Email subject: \")\n",
        "part1 = input(\"Part 1: \")\n",
        "part2 = input(\"Part 2: \")\n",
        "part3 = input(\"Part 3: \")\n",
        "for i in email_list:\n",
        "    send_email(i, subject, part1, part2, part3)"
      ],
      "execution_count": 17,
      "outputs": [
        {
          "output_type": "stream",
          "text": [
            "Email subject: This is a test-automate email from Tran\n",
            "Part 1: Hello\n",
            "Part 2: Have a nice day!\n",
            "Part 3: That's it! Best Regards,\n"
          ],
          "name": "stdout"
        }
      ]
    },
    {
      "cell_type": "code",
      "metadata": {
        "id": "ucZlwCXW4Mvb"
      },
      "source": [
        ""
      ],
      "execution_count": null,
      "outputs": []
    }
  ]
}